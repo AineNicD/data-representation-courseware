{
 "cells": [
  {
   "cell_type": "markdown",
   "id": "3cdf6bc4",
   "metadata": {},
   "source": [
    "## Data Representation\n",
    "## Lab 3: Web Scraping\n",
    "### Lecturer: Andrew Beatty\n"
   ]
  },
  {
   "cell_type": "markdown",
   "id": "df9b8cb5",
   "metadata": {},
   "source": [
    "### Bring it together\n",
    "9. Make a file called PY05-readFileFinal.py, copy in the code from PY03-readOutFile.py, that brings it all together"
   ]
  },
  {
   "cell_type": "code",
   "execution_count": 1,
   "id": "9ce31c15",
   "metadata": {},
   "outputs": [],
   "source": [
    "from bs4 import BeautifulSoup\n",
    "import csv\n",
    "with open(\"../week02/carviewer2.html\") as fp:\n",
    " soup = BeautifulSoup(fp,'html.parser')\n",
    "\n",
    "employee_file = open('week02data.csv', mode='w')\n",
    "employee_writer = csv.writer(employee_file, delimiter=',', quotechar='\"', quoting=csv.QUOTE_MINIMAL)\n",
    "rows = soup.findAll(\"tr\")\n",
    "for row in rows:\n",
    "\n",
    "    cols = row.findAll(\"td\")\n",
    "    dataList = []\n",
    "    for col in cols:\n",
    "        dataList.append(col.text)\n",
    "    employee_writer.writerow(dataList)\n",
    "employee_file.close()"
   ]
  },
  {
   "cell_type": "markdown",
   "id": "e55da91c",
   "metadata": {},
   "source": [
    "10. How would you modify the code so that the update and delete text is not outputted?"
   ]
  },
  {
   "cell_type": "code",
   "execution_count": 2,
   "id": "bfff1313",
   "metadata": {},
   "outputs": [],
   "source": [
    "from bs4 import BeautifulSoup\n",
    "import csv\n",
    "with open(\"../week02/carviewer2.html\") as fp:\n",
    " soup = BeautifulSoup(fp,'html.parser')\n",
    "\n",
    "\n",
    "employee_file = open('week02data.csv', mode = 'w')\n",
    "employee_writer = csv.writer(employee_file, delimiter=',', quotechar ='\"',quoting=csv.QUOTE_MINIMAL)\n",
    "\n",
    "\n",
    "rows = soup.findAll(\"tr\")\n",
    "for row in rows:\n",
    "\n",
    "    \n",
    "    cols = row.findAll(\"td\")\n",
    "    dataList=[]\n",
    "    # code for modifying so update and delete is not outputted from stackoverflow\n",
    "    # https://stackoverflow.com/questions/47151375/python-modifying-a-csv-file\n",
    "    for col in cols:\n",
    "        if col.text == \"Update\" or col.text == \"Delete\":\n",
    "            continue\n",
    "        else:\n",
    "            dataList.append(col.text)\n",
    "\n",
    "    employee_writer.writerow(dataList)\n",
    "\n",
    "employee_file.close()"
   ]
  },
  {
   "cell_type": "markdown",
   "id": "20cd7add",
   "metadata": {},
   "source": [
    "## References\n",
    "\n",
    "- Andrew Beatty course material\n",
    "- Python- Modifying a csv file, [stackoverflow](https://stackoverflow.com/questions/47151375/python-modifying-a-csv-file)"
   ]
  },
  {
   "cell_type": "code",
   "execution_count": null,
   "id": "c53ee7dc",
   "metadata": {},
   "outputs": [],
   "source": []
  }
 ],
 "metadata": {
  "kernelspec": {
   "display_name": "Python 3",
   "language": "python",
   "name": "python3"
  },
  "language_info": {
   "codemirror_mode": {
    "name": "ipython",
    "version": 3
   },
   "file_extension": ".py",
   "mimetype": "text/x-python",
   "name": "python",
   "nbconvert_exporter": "python",
   "pygments_lexer": "ipython3",
   "version": "3.8.8"
  }
 },
 "nbformat": 4,
 "nbformat_minor": 5
}
