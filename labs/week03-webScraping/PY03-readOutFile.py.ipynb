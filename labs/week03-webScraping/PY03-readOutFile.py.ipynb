{
 "cells": [
  {
   "cell_type": "markdown",
   "id": "01f77dde",
   "metadata": {},
   "source": [
    "## Data Representation\n",
    "## Lab 3: Web Scraping\n",
    "### Lecturer: Andrew Beatty"
   ]
  },
  {
   "cell_type": "markdown",
   "id": "7639c251",
   "metadata": {},
   "source": [
    "4. Extract the first <tr> from the file (make a file called (PY03-readOutFile.py)\n"
   ]
  },
  {
   "cell_type": "code",
   "execution_count": 1,
   "id": "623da691",
   "metadata": {},
   "outputs": [
    {
     "name": "stdout",
     "output_type": "stream",
     "text": [
      "<tr>\n",
      "<th>Reg</th>\n",
      "<th>Make</th>\n",
      "<th>Model</th>\n",
      "<th>Price</th>\n",
      "<th>Update</th>\n",
      "<th>Delete</th>\n",
      "</tr>\n"
     ]
    }
   ],
   "source": [
    "from bs4 import BeautifulSoup\n",
    "with open(\"../week02/carviewer2.html\") as fp:\n",
    "    soup = BeautifulSoup(fp,'html.parser')\n",
    "\n",
    "print (soup.tr)\n"
   ]
  },
  {
   "cell_type": "markdown",
   "id": "1dc3983c",
   "metadata": {},
   "source": [
    "5. Modify the program to get all the <tr>"
   ]
  },
  {
   "cell_type": "code",
   "execution_count": 2,
   "id": "73ef249a",
   "metadata": {},
   "outputs": [
    {
     "name": "stdout",
     "output_type": "stream",
     "text": [
      "------\n",
      "<tr>\n",
      "<th>Reg</th>\n",
      "<th>Make</th>\n",
      "<th>Model</th>\n",
      "<th>Price</th>\n",
      "<th>Update</th>\n",
      "<th>Delete</th>\n",
      "</tr>\n",
      "------\n",
      "<tr id=\"191 Mo 123\">\n",
      "<td>191 Mo 123</td>\n",
      "<td>Ford</td>\n",
      "<td>Modeo</td>\n",
      "<td>25000</td>\n",
      "<td><button onclick=\"showUpdate(this)\">Update</button></td>\n",
      "<td><button onclick=\"doDelete(this)\">Delete</button></td>\n",
      "</tr>\n",
      "------\n",
      "<tr id=\"12 G 123\">\n",
      "<td>12 G 123</td>\n",
      "<td>Fiat</td>\n",
      "<td>Punto</td>\n",
      "<td>12</td>\n",
      "<td><button onclick=\"showUpdate(this)\">Update</button></td>\n",
      "<td><button onclick=\"doDelete(this)\">Delete</button></td>\n",
      "</tr>\n",
      "------\n",
      "<tr id=\"05 D 123\">\n",
      "<td>05 D 123</td>\n",
      "<td>Nissan</td>\n",
      "<td>Almera</td>\n",
      "<td>500</td>\n",
      "<td><button onclick=\"showUpdate(this)\">Update</button></td>\n",
      "<td><button onclick=\"doDelete(this)\">Delete</button></td>\n",
      "</tr>\n"
     ]
    }
   ],
   "source": [
    "rows = soup.findAll(\"tr\")\n",
    "for row in rows:\n",
    " print(\"------\")\n",
    " print(row)"
   ]
  },
  {
   "cell_type": "markdown",
   "id": "f2f79287",
   "metadata": {},
   "source": [
    "6. Now for each row let’s get the contents of the TD"
   ]
  },
  {
   "cell_type": "code",
   "execution_count": 3,
   "id": "78ad236c",
   "metadata": {},
   "outputs": [
    {
     "name": "stdout",
     "output_type": "stream",
     "text": [
      "191 Mo 123\n",
      "Ford\n",
      "Modeo\n",
      "25000\n",
      "Update\n",
      "Delete\n",
      "12 G 123\n",
      "Fiat\n",
      "Punto\n",
      "12\n",
      "Update\n",
      "Delete\n",
      "05 D 123\n",
      "Nissan\n",
      "Almera\n",
      "500\n",
      "Update\n",
      "Delete\n"
     ]
    }
   ],
   "source": [
    "for row in rows:\n",
    " #print(row)\n",
    " cols = row.findAll(\"td\")\n",
    " for col in cols:\n",
    "     print(col.text)\n"
   ]
  },
  {
   "cell_type": "markdown",
   "id": "4f8b6f99",
   "metadata": {},
   "source": [
    "7. Modify this so that the text in the columns are stored in a list\n"
   ]
  },
  {
   "cell_type": "code",
   "execution_count": 4,
   "id": "9fcb1840",
   "metadata": {},
   "outputs": [
    {
     "name": "stdout",
     "output_type": "stream",
     "text": [
      "['05 D 123', 'Nissan', 'Almera', '500', 'Update', 'Delete']\n"
     ]
    }
   ],
   "source": [
    "dataList = []\n",
    "for col in cols:\n",
    "    dataList.append(col.text)\n",
    "print (dataList)"
   ]
  },
  {
   "cell_type": "markdown",
   "id": "032a44b8",
   "metadata": {},
   "source": [
    "## ## References\n",
    "\n",
    "- Andrew Beatty course material"
   ]
  },
  {
   "cell_type": "code",
   "execution_count": null,
   "id": "604eb41e",
   "metadata": {},
   "outputs": [],
   "source": []
  }
 ],
 "metadata": {
  "kernelspec": {
   "display_name": "Python 3",
   "language": "python",
   "name": "python3"
  },
  "language_info": {
   "codemirror_mode": {
    "name": "ipython",
    "version": 3
   },
   "file_extension": ".py",
   "mimetype": "text/x-python",
   "name": "python",
   "nbconvert_exporter": "python",
   "pygments_lexer": "ipython3",
   "version": "3.8.8"
  }
 },
 "nbformat": 4,
 "nbformat_minor": 5
}
