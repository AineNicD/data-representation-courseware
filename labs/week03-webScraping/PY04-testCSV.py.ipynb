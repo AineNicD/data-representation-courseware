{
 "cells": [
  {
   "cell_type": "markdown",
   "id": "9cccb232",
   "metadata": {},
   "source": [
    "## Data Representation\n",
    "## Lab 3: Web Scraping\n",
    "### Lecturer: Andrew Beatty\n"
   ]
  },
  {
   "cell_type": "markdown",
   "id": "03381e32",
   "metadata": {},
   "source": [
    "8. We want to write this to a CSV file for that we will need the csv package, lets test it. Write a file called PY04-testCSV.py\n"
   ]
  },
  {
   "cell_type": "code",
   "execution_count": 1,
   "id": "bd0ad91f",
   "metadata": {},
   "outputs": [],
   "source": [
    "import csv\n",
    "employee_file = open('employee_file.csv', mode='w')\n",
    "employee_writer = csv.writer(employee_file, delimiter=',', quotechar='\"', quoting=csv.QUOTE_MINIMAL)\n",
    "employee_writer.writerow(['John Smith', 'Accounting', 'November'])\n",
    "employee_writer.writerow(['Erica Meyers', 'IT', 'March'])\n",
    "employee_file.close()\n"
   ]
  },
  {
   "cell_type": "markdown",
   "id": "0ec36f59",
   "metadata": {},
   "source": [
    "Look at the directory and check if an employee_file.csv was made\n"
   ]
  },
  {
   "cell_type": "markdown",
   "id": "141caf40",
   "metadata": {},
   "source": [
    "## References\n",
    "\n",
    "- Andrew Beatty course material"
   ]
  },
  {
   "cell_type": "code",
   "execution_count": null,
   "id": "f97be123",
   "metadata": {},
   "outputs": [],
   "source": []
  }
 ],
 "metadata": {
  "kernelspec": {
   "display_name": "Python 3",
   "language": "python",
   "name": "python3"
  },
  "language_info": {
   "codemirror_mode": {
    "name": "ipython",
    "version": 3
   },
   "file_extension": ".py",
   "mimetype": "text/x-python",
   "name": "python",
   "nbconvert_exporter": "python",
   "pygments_lexer": "ipython3",
   "version": "3.8.8"
  }
 },
 "nbformat": 4,
 "nbformat_minor": 5
}
